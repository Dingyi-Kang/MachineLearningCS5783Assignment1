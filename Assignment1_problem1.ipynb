{
  "nbformat": 4,
  "nbformat_minor": 0,
  "metadata": {
    "colab": {
      "provenance": [],
      "collapsed_sections": []
    },
    "kernelspec": {
      "name": "python3",
      "display_name": "Python 3"
    },
    "language_info": {
      "name": "python"
    }
  },
  "cells": [
    {
      "cell_type": "code",
      "execution_count": 8,
      "metadata": {
        "colab": {
          "base_uri": "https://localhost:8080/"
        },
        "id": "Xf8UvtOYhjDo",
        "outputId": "2341ef56-cb35-4fdd-c111-679339a16c6b"
      },
      "outputs": [
        {
          "output_type": "stream",
          "name": "stdout",
          "text": [
            "Drive already mounted at /content/drive; to attempt to forcibly remount, call drive.mount(\"/content/drive\", force_remount=True).\n"
          ]
        }
      ],
      "source": [
        "## Dingyi Kang\n",
        "## A20308046\n",
        "## Assignment1 - problem 1\n",
        "\n",
        "import numpy as np\n",
        "import matplotlib.pyplot as plt\n",
        "\n",
        "from google.colab import drive\n",
        "drive.mount('/content/drive')"
      ]
    },
    {
      "cell_type": "code",
      "source": [
        "xFilePath = '/content/drive/My Drive/x_train.npy'\n",
        "yFilePath = '/content/drive/My Drive/y_train.npy'\n",
        "xTestFilePath = '/content/drive/My Drive/x_test.npy'\n",
        "yTestFilePath = '/content/drive/My Drive/y_test.npy'"
      ],
      "metadata": {
        "id": "MXA3n3VtjNUD"
      },
      "execution_count": 9,
      "outputs": []
    },
    {
      "cell_type": "code",
      "source": [
        "#load the array data from npy files\n",
        "x = np.load(xFilePath)\n",
        "y = np.load(yFilePath)\n",
        "xTest = np.load(xTestFilePath)\n",
        "yTest = np.load(yTestFilePath)\n",
        "# plot the relationships between these data\n",
        "plt.scatter(x, y)\n",
        "plt.scatter(xTest, yTest)\n"
      ],
      "metadata": {
        "colab": {
          "base_uri": "https://localhost:8080/",
          "height": 283
        },
        "id": "vgZeP4Jbk4ih",
        "outputId": "6dca21ed-26fa-478c-ce74-9942ecf654bf"
      },
      "execution_count": 18,
      "outputs": [
        {
          "output_type": "execute_result",
          "data": {
            "text/plain": [
              "<matplotlib.collections.PathCollection at 0x7f2417ac3c90>"
            ]
          },
          "metadata": {},
          "execution_count": 18
        },
        {
          "output_type": "display_data",
          "data": {
            "text/plain": [
              "<Figure size 432x288 with 1 Axes>"
            ],
            "image/png": "[encoded data removed]"
          },
          "metadata": {
            "needs_background": "light"
          }
        }
      ]
    },
    {
      "cell_type": "code",
      "source": [
        "# plot the relationships between the test data only \n",
        "plt.scatter(xTest, yTest)"
      ],
      "metadata": {
        "colab": {
          "base_uri": "https://localhost:8080/",
          "height": 283
        },
        "id": "Iupw01VIrpgH",
        "outputId": "d55971ef-35b1-4a34-ea7c-dfc24dd70829"
      },
      "execution_count": null,
      "outputs": [
        {
          "output_type": "execute_result",
          "data": {
            "text/plain": [
              "<matplotlib.collections.PathCollection at 0x7f34e00ba990>"
            ]
          },
          "metadata": {},
          "execution_count": 5
        },
        {
          "output_type": "display_data",
          "data": {
            "text/plain": [
              "<Figure size 432x288 with 1 Axes>"
            ],
            "image/png": "[encoded data removed]"
          },
          "metadata": {
            "needs_background": "light"
          }
        }
      ]
    },
    {
      "cell_type": "markdown",
      "source": [
        "Apparently, the relationship between x and y is not linear. Based on observation of the plot of xTrainingDataset and yTrainningDataset, and the plot of xTestingDataset and yTestingDataset, and the plots of them together\n",
        "#### 1\n",
        "We can see, when x is close to 0, the shape of the relationship is close to a sin function. As the absolut of x gets bigger and bigger, the shape of the relationship is closer to a exponentially grown function.\n",
        "Hence, I guess the basis functions we may need to add for extracting features may include sin and a function with exponenital growth\n",
        "#### 2\n",
        "From the plot we can see, the relationship line is in a special symmetry around x = 0 (i.e., f(x) ~= -f(-x)). Hence, we can infer we don't need to add constant (error) to x\n",
        "####3\n",
        "Based on f(0) ~= 6, sin0 = 0, and the relationship line is in a special symmetry around x = 0, the constant error probably is around 6\n",
        "####4\n",
        "As we can see from the plot of the test dataset, the sin-like relationship line comes to its climax at 0.75 and -0.75. Given sin(π/2) = 1 and sin(-π/2) = -1, we can infer 0.75 x = π/2, and thus x = 2π/3\n",
        "Hence, we can apply a scalar of 2π/3 to x\n",
        "####5\n",
        "As we can see the plot of the test dataset, the maximum value of the function is around 11 and the minimum value of the function is around 1. Given the base of this function is around 6, we can guess the range of the sin function is from -5 to +5.\n",
        "Given the range of a normal sin(x) function is from -1 to +1, we can thus apply a scalar of 5 to the sin function\n",
        "####6\n",
        "As for function with exponential growth, given f(x)-6 ~= f(-x)-6, we know this function must meet g(x) = -g(x)\n",
        "Hence, we can initial guess g(x) = x**3\n",
        "\n",
        "Hence, in summary, the final hypothesized equation of this model is as following:\n",
        "y = 5 * sin(2π/3 * x) + xp**3 + 6\n",
        "\n",
        "Hence, the basis functions we can add to the model are sin(2π/3 * x) and x**3"
      ],
      "metadata": {
        "id": "fPNoZiw_smDS"
      }
    },
    {
      "cell_type": "code",
      "source": [
        "\"\"\"\n",
        "let's build the model:\n",
        "y = a*x + b*sin(2π/3 * x) + c*x**3 + d\n",
        "with initial guess:\n",
        "a = 0\n",
        "b = 5\n",
        "c = 1\n",
        "d = 6\n",
        "\"\"\"\n",
        "# theta is the vector of parameters (i.e., a, b, c, d in this case) while X is the matrix of different features\n",
        "def hypothesis(X, theta):\n",
        "    y = theta*X\n",
        "    return np.sum(y, axis=1)\n",
        "\n",
        "# let's use mean square error function as the loss function\n",
        "# theta is the vector of parameters\n",
        "# X is the matrix of different features\n",
        "# y is the vector of targeted values\n",
        "def loss(X, y, theta):\n",
        "    y1 = hypothesis(X, theta)\n",
        "    # num of rows -- len(X)\n",
        "    return sum((y1-y)**2)/len(X)\n",
        "\n",
        "# we develop gradien descent function based on Least Mean Squares update rule\n",
        "# This function returns two things: one is a vector J which is loss function values associated with each iterations; the second one is the theta with minimized loss function value\n",
        "def gradientDescent(X, y, theta, leanringRate, iterations):\n",
        "    J=[]\n",
        "    k=0\n",
        "    while k < iterations:\n",
        "        y1 = hypothesis(X, theta)\n",
        "        for c in range(0, X.shape[1]):\n",
        "            theta[c] = theta[c] + leanringRate*sum((y-y1)* X[:, c])/len(X)\n",
        "        j = loss(X, y, theta)\n",
        "        J.append(j)\n",
        "        k += 1\n",
        "    return J, theta"
      ],
      "metadata": {
        "id": "Q6RAtHihyGpP"
      },
      "execution_count": null,
      "outputs": []
    },
    {
      "cell_type": "code",
      "source": [
        "# let's frist build feature matrix X with new features appended\n",
        "x = np.load(xFilePath)\n",
        "y = np.load(yFilePath)\n",
        "\n",
        "coef = 2 * np.pi / 3\n",
        "# feature sin(2π/3 * x)\n",
        "x1 = np.array(list(map(lambda v: [np.sin(coef * v[0])], x)))\n",
        "# feature x**3\n",
        "x2 = np.array(list(map(lambda v: v**3, x)))\n",
        "# constant error -- d\n",
        "x3 = np.ones(x.shape)\n",
        "#print(x1)\n",
        "#print(x2)\n",
        "#print(x3)\n",
        "X = np.append(x, x1, axis=1)\n",
        "X = np.append(X, x2, axis=1)\n",
        "X = np.append(X, x3, axis=1)"
      ],
      "metadata": {
        "id": "fiAQMez27V5r"
      },
      "execution_count": null,
      "outputs": []
    },
    {
      "cell_type": "code",
      "source": [
        "\"\"\"\n",
        "initial guess:\n",
        "a = 0\n",
        "b = 5\n",
        "c = 1\n",
        "d = 6\n",
        "\"\"\"\n",
        "# let's begin to train the model and get the theta with the initial guess which is based on our observation\n",
        "learningRate = 0.01\n",
        "numOfIterations = 1000\n",
        "theta = [0.0, 5.0, 1.0, 6.0]\n",
        "J, theta = gradientDescent(X, y, theta, learningRate, numOfIterations)\n",
        "y_pred = hypothesis(X, theta)\n",
        "plt.scatter(x,y)           \n",
        "plt.scatter(x, y_pred)\n",
        "plt.show()"
      ],
      "metadata": {
        "id": "xdmmWKmNnY7q",
        "colab": {
          "base_uri": "https://localhost:8080/",
          "height": 265
        },
        "outputId": "1c70fc65-c8c1-401d-92cc-104410b3af39"
      },
      "execution_count": null,
      "outputs": [
        {
          "output_type": "display_data",
          "data": {
            "text/plain": [
              "<Figure size 432x288 with 1 Axes>"
            ],
            "image/png": "[encoded data removed]"
          },
          "metadata": {
            "needs_background": "light"
          }
        }
      ]
    },
    {
      "cell_type": "code",
      "source": [
        "# plot the loss function values changes during the training\n",
        "print(\"The result theta we got is:\")\n",
        "print(theta)\n",
        "print()\n",
        "print(\"The minimum loss function value we got is:\") \n",
        "print(loss(X, y, theta))\n",
        "print()\n",
        "j = np.array(J)\n",
        "plt.scatter(list(range(0, len(j))), j)"
      ],
      "metadata": {
        "colab": {
          "base_uri": "https://localhost:8080/",
          "height": 390
        },
        "id": "hlz2DUTJAmwK",
        "outputId": "9f731eb9-44c0-4453-d669-4e346a2a81ce"
      },
      "execution_count": null,
      "outputs": [
        {
          "output_type": "stream",
          "name": "stdout",
          "text": [
            "The result theta we got is:\n",
            "[-11.498705905767162, 14.165277363984496, 2.9059350343391723, 6.098001016249905]\n",
            "\n",
            "The minimum loss function value we got is:\n",
            "13.550560451278125\n",
            "\n"
          ]
        },
        {
          "output_type": "execute_result",
          "data": {
            "text/plain": [
              "<matplotlib.collections.PathCollection at 0x7f34deb362d0>"
            ]
          },
          "metadata": {},
          "execution_count": 51
        },
        {
          "output_type": "display_data",
          "data": {
            "text/plain": [
              "<Figure size 432x288 with 1 Axes>"
            ],
            "image/png": "[encoded data removed]"
          },
          "metadata": {
            "needs_background": "light"
          }
        }
      ]
    },
    {
      "cell_type": "code",
      "source": [
        "# then let's test it in test dataset\n",
        "xTest = np.load(xTestFilePath)\n",
        "yTest = np.load(yTestFilePath)\n",
        "\n",
        "coef = 2 * np.pi / 3\n",
        "# feature sin(2π/3 * x)\n",
        "x1 = np.array(list(map(lambda v: [np.sin(coef * v[0])], xTest)))\n",
        "# feature x**3\n",
        "x2 = np.array(list(map(lambda v: v**3, xTest)))\n",
        "# constant error -- d\n",
        "x3 = np.ones(xTest.shape)\n",
        "\n",
        "X = np.append(xTest, x1, axis=1)\n",
        "X = np.append(X, x2, axis=1)\n",
        "X = np.append(X, x3, axis=1)\n",
        "\n",
        "# get the predicted values\n",
        "print(\"The theta is:\")\n",
        "print(theta)\n",
        "print()\n",
        "# get the prediction error\n",
        "  # convert yTest from a matrix to a vector first\n",
        "yTest = np.sum(yTest, axis=1)\n",
        "print(\"The prediction error is:\")\n",
        "print(loss(X, yTest, theta))\n",
        "print()\n",
        "y_pred = hypothesis(X, theta)\n",
        "# compare the prediction relationship with real relationship in plots\n",
        "plt.scatter(xTest, yTest)\n",
        "plt.scatter(xTest, y_pred)"
      ],
      "metadata": {
        "colab": {
          "base_uri": "https://localhost:8080/",
          "height": 394
        },
        "id": "vW8qniL6w8KX",
        "outputId": "2ebddf16-a45a-410c-81fe-5f48928e0477"
      },
      "execution_count": null,
      "outputs": [
        {
          "output_type": "stream",
          "name": "stdout",
          "text": [
            "The theta is:\n",
            "[-11.498705905767162, 14.165277363984496, 2.9059350343391723, 6.098001016249905]\n",
            "\n",
            "The prediction error is:\n",
            "4.700868028480196\n",
            "\n"
          ]
        },
        {
          "output_type": "execute_result",
          "data": {
            "text/plain": [
              "<matplotlib.collections.PathCollection at 0x7f34de8e2b50>"
            ]
          },
          "metadata": {},
          "execution_count": 54
        },
        {
          "output_type": "display_data",
          "data": {
            "text/plain": [
              "<Figure size 432x288 with 1 Axes>"
            ],
            "image/png": "[encoded data removed]"
          },
          "metadata": {
            "needs_background": "light"
          }
        }
      ]
    },
    {
      "cell_type": "markdown",
      "source": [
        "From above, we can see: the model fit well with growth pattern of the actual target values with a low prediction error (4.70)"
      ],
      "metadata": {
        "id": "mXqQfbIz3oYr"
      }
    },
    {
      "cell_type": "code",
      "source": [
        "# Another function we can try is y = a*x + b*sin(2π/3 * x) + d, which replaces x**3 with x. It also meets the observations we discussed above\n",
        "\"\"\"\n",
        "let's build the model:\n",
        "y = a*x + b*sin(2π/3 * x) + d\n",
        "with initial guess:\n",
        "a = 10\n",
        "b = 5\n",
        "d = 6\n",
        "\"\"\"\n",
        "\n",
        "x = np.load(xFilePath)\n",
        "y = np.load(yFilePath)\n",
        "\n",
        "coef = 2 * np.pi / 3\n",
        "x1 = np.array(list(map(lambda v: [np.sin(coef * v[0])], x)))\n",
        "x2 = np.ones(x.shape)\n",
        "X = np.append(x, x1, axis=1)\n",
        "X = np.append(X, x2, axis=1)\n",
        "#print(X)"
      ],
      "metadata": {
        "id": "3fg2kVA2E6Uj"
      },
      "execution_count": null,
      "outputs": []
    },
    {
      "cell_type": "code",
      "source": [
        "learningRate = 0.01\n",
        "numOfIterations = 1000\n",
        "theta = [4.0, 5.0, 6.0]\n",
        "J, theta = gradientDescent(X, y, theta, learningRate, numOfIterations)\n",
        "y_pred = hypothesis(X, theta)\n",
        "plt.scatter(x,y)           \n",
        "plt.scatter(x, y_pred)\n",
        "plt.show()"
      ],
      "metadata": {
        "colab": {
          "base_uri": "https://localhost:8080/",
          "height": 265
        },
        "id": "bFDg7DvCJN10",
        "outputId": "784105d3-bd8f-4e9b-fccf-d1aa8e0a38aa"
      },
      "execution_count": null,
      "outputs": [
        {
          "output_type": "display_data",
          "data": {
            "text/plain": [
              "<Figure size 432x288 with 1 Axes>"
            ],
            "image/png": "[encoded data removed]"
          },
          "metadata": {
            "needs_background": "light"
          }
        }
      ]
    },
    {
      "cell_type": "code",
      "source": [
        "print(theta) \n",
        "print(loss(X, y, theta))\n",
        "j = np.array(J)\n",
        "plt.scatter(list(range(0, len(j))), j)"
      ],
      "metadata": {
        "colab": {
          "base_uri": "https://localhost:8080/",
          "height": 321
        },
        "id": "2bzkWY9QJWJe",
        "outputId": "5a395d3d-0919-4f4c-a08a-c3dbf01ae428"
      },
      "execution_count": null,
      "outputs": [
        {
          "output_type": "stream",
          "name": "stdout",
          "text": [
            "[3.9654739838643036, 5.919178797640455, 7.0133558577154185]\n",
            "156.1539736313518\n"
          ]
        },
        {
          "output_type": "execute_result",
          "data": {
            "text/plain": [
              "<matplotlib.collections.PathCollection at 0x7f34de54bdd0>"
            ]
          },
          "metadata": {},
          "execution_count": 57
        },
        {
          "output_type": "display_data",
          "data": {
            "text/plain": [
              "<Figure size 432x288 with 1 Axes>"
            ],
            "image/png": "[encoded data removed]"
          },
          "metadata": {
            "needs_background": "light"
          }
        }
      ]
    },
    {
      "cell_type": "code",
      "source": [
        "# then, let's test it in the test dataset\n",
        "xTest = np.load(xTestFilePath)\n",
        "yTest = np.load(yTestFilePath)\n",
        "\n",
        "coef = 2 * np.pi / 3\n",
        "# feature sin(2π/3 * x)\n",
        "x1 = np.array(list(map(lambda v: [np.sin(coef * v[0])], xTest)))\n",
        "# constant error -- d\n",
        "x2 = np.ones(xTest.shape)\n",
        "\n",
        "X = np.append(xTest, x1, axis=1)\n",
        "X = np.append(X, x2, axis=1)\n",
        "\n",
        "# get the predicted values\n",
        "print(\"The theta is:\")\n",
        "print(theta)\n",
        "y_pred = hypothesis(X, theta)\n",
        "\n",
        "# get the prediction error\n",
        "  # convert yTest from a matrix to a vector first\n",
        "yTest = np.sum(yTest, axis=1)\n",
        "print(\"The prediction error is:\")\n",
        "print(loss(X, yTest, theta))\n",
        "\n",
        "# compare the prediction relationship with real relationship in plots\n",
        "plt.scatter(xTest, yTest)\n",
        "plt.scatter(xTest, y_pred)"
      ],
      "metadata": {
        "colab": {
          "base_uri": "https://localhost:8080/",
          "height": 354
        },
        "id": "oAXo20TR42bY",
        "outputId": "8a04811d-069d-4d6a-a654-387bfee0db0f"
      },
      "execution_count": null,
      "outputs": [
        {
          "output_type": "stream",
          "name": "stdout",
          "text": [
            "The theta is:\n",
            "[3.9654739838643036, 5.919178797640455, 7.0133558577154185]\n",
            "The prediction error is:\n",
            "16.555120866891517\n"
          ]
        },
        {
          "output_type": "execute_result",
          "data": {
            "text/plain": [
              "<matplotlib.collections.PathCollection at 0x7f34de4a5a10>"
            ]
          },
          "metadata": {},
          "execution_count": 58
        },
        {
          "output_type": "display_data",
          "data": {
            "text/plain": [
              "<Figure size 432x288 with 1 Axes>"
            ],
            "image/png": "[encoded data removed]"
          },
          "metadata": {
            "needs_background": "light"
          }
        }
      ]
    },
    {
      "cell_type": "markdown",
      "source": [
        "In comparsion with the model y = a*x + b*sin(2π/3 * x) + c*x**3 + d, this model fit worst with test data than previous one ( it has a larger prediction error (16.55))"
      ],
      "metadata": {
        "id": "1258cLnQ5bXZ"
      }
    },
    {
      "cell_type": "code",
      "source": [
        "# lastly, let's try y = a*x + b*sin(2π/3 * x) + c*x**5 + d\n",
        "\"\"\"\n",
        "with initial guess:\n",
        "a = 0\n",
        "b = 5\n",
        "c = 0.01\n",
        "d = 6\n",
        "\"\"\"\n",
        "\n",
        "x = np.load(xFilePath)\n",
        "y = np.load(yFilePath)\n",
        "\n",
        "coef = 2 * np.pi / 3\n",
        "# feature sin(2π/3 * x)\n",
        "x1 = np.array(list(map(lambda v: [np.sin(coef * v[0])], x)))\n",
        "# feature x**5\n",
        "x2 = np.array(list(map(lambda v: v**5, x)))\n",
        "# constant error -- d\n",
        "x3 = np.ones(x.shape)\n",
        "\n",
        "X = np.append(x, x1, axis=1)\n",
        "X = np.append(X, x2, axis=1)\n",
        "X = np.append(X, x3, axis=1)"
      ],
      "metadata": {
        "id": "L1gi0lI775AJ"
      },
      "execution_count": null,
      "outputs": []
    },
    {
      "cell_type": "code",
      "source": [
        "learningRate = 0.01\n",
        "numOfIterations = 160\n",
        "theta = [0.0, 5.0, 0.01, 6.0]\n",
        "J, theta = gradientDescent(X, y, theta, learningRate, numOfIterations)\n",
        "y_pred = hypothesis(X, theta)\n",
        "plt.scatter(x,y)           \n",
        "plt.scatter(x, y_pred)\n",
        "plt.show()"
      ],
      "metadata": {
        "colab": {
          "base_uri": "https://localhost:8080/",
          "height": 294
        },
        "id": "z_PKPxwV8ef4",
        "outputId": "90aa8643-8bc1-4daf-e3a7-4d472bfdc623"
      },
      "execution_count": null,
      "outputs": [
        {
          "output_type": "stream",
          "name": "stderr",
          "text": [
            "/usr/local/lib/python3.7/dist-packages/ipykernel_launcher.py:22: RuntimeWarning: overflow encountered in square\n"
          ]
        },
        {
          "output_type": "display_data",
          "data": {
            "text/plain": [
              "<Figure size 432x288 with 1 Axes>"
            ],
            "image/png": "[encoded data removed]"
          },
          "metadata": {
            "needs_background": "light"
          }
        }
      ]
    },
    {
      "cell_type": "code",
      "source": [
        "print(theta) \n",
        "print(loss(X, y, theta))\n",
        "j = np.array(J)\n",
        "plt.scatter(list(range(0, len(j))), j)"
      ],
      "metadata": {
        "colab": {
          "base_uri": "https://localhost:8080/",
          "height": 347
        },
        "id": "bKgU08QS9G_v",
        "outputId": "cdf83e71-34a9-4e2e-8990-069587cd644d"
      },
      "execution_count": null,
      "outputs": [
        {
          "output_type": "stream",
          "name": "stdout",
          "text": [
            "[-3.396505850628128e+285, 5.774031549649083e+284, -1.926930212626865e+287, 2.9621292651907044e+283]\n",
            "inf\n"
          ]
        },
        {
          "output_type": "stream",
          "name": "stderr",
          "text": [
            "/usr/local/lib/python3.7/dist-packages/ipykernel_launcher.py:22: RuntimeWarning: overflow encountered in square\n"
          ]
        },
        {
          "output_type": "execute_result",
          "data": {
            "text/plain": [
              "<matplotlib.collections.PathCollection at 0x7f34de3c79d0>"
            ]
          },
          "metadata": {},
          "execution_count": 72
        },
        {
          "output_type": "display_data",
          "data": {
            "text/plain": [
              "<Figure size 432x288 with 1 Axes>"
            ],
            "image/png": "[encoded data removed]"
          },
          "metadata": {
            "needs_background": "light"
          }
        }
      ]
    },
    {
      "cell_type": "code",
      "source": [
        "# then, let's test it in the test dataset\n",
        "xTest = np.load(xTestFilePath)\n",
        "yTest = np.load(yTestFilePath)\n",
        "\n",
        "coef = 2 * np.pi / 3\n",
        "# feature sin(2π/3 * x)\n",
        "x1 = np.array(list(map(lambda v: [np.sin(coef * v[0])], xTest)))\n",
        "# feature x**5\n",
        "x2 = np.array(list(map(lambda v: v**5, xTest)))\n",
        "# constant error -- d\n",
        "x3 = np.ones(xTest.shape)\n",
        "\n",
        "X = np.append(xTest, x1, axis=1)\n",
        "X = np.append(X, x2, axis=1)\n",
        "X = np.append(X, x3, axis=1)\n",
        "\n",
        "# get the predicted values\n",
        "print(\"The theta is:\")\n",
        "print(theta)\n",
        "y_pred = hypothesis(X, theta)\n",
        "\n",
        "# get the prediction error\n",
        "  # convert yTest from a matrix to a vector first\n",
        "yTest = np.sum(yTest, axis=1)\n",
        "print(\"The prediction error is:\")\n",
        "print(loss(X, yTest, theta))\n",
        "\n",
        "# compare the prediction relationship with real relationship in plots\n",
        "plt.scatter(xTest, yTest)\n",
        "plt.scatter(xTest, y_pred)"
      ],
      "metadata": {
        "colab": {
          "base_uri": "https://localhost:8080/",
          "height": 383
        },
        "id": "8cp8hyTz9VeB",
        "outputId": "d3db2753-5188-4e58-f723-29bf626127ce"
      },
      "execution_count": null,
      "outputs": [
        {
          "output_type": "stream",
          "name": "stdout",
          "text": [
            "The theta is:\n",
            "[-3.396505850628128e+285, 5.774031549649083e+284, -1.926930212626865e+287, 2.9621292651907044e+283]\n",
            "The prediction error is:\n",
            "inf\n"
          ]
        },
        {
          "output_type": "stream",
          "name": "stderr",
          "text": [
            "/usr/local/lib/python3.7/dist-packages/ipykernel_launcher.py:22: RuntimeWarning: overflow encountered in square\n"
          ]
        },
        {
          "output_type": "execute_result",
          "data": {
            "text/plain": [
              "<matplotlib.collections.PathCollection at 0x7f34de1278d0>"
            ]
          },
          "metadata": {},
          "execution_count": 73
        },
        {
          "output_type": "display_data",
          "data": {
            "text/plain": [
              "<Figure size 432x288 with 1 Axes>"
            ],
            "image/png": "[encoded data removed]"
          },
          "metadata": {
            "needs_background": "light"
          }
        }
      ]
    },
    {
      "cell_type": "markdown",
      "source": [
        "From the plot and prediction error above, we can see this model doesnt' work because x**5 grow too fast. It just fits around x=0. However, the prediction error get closer to infinite as the absolute value of x grow\n",
        "\n",
        "## Summary\n",
        "After a series of comparisons, it turns out our first model, y = a*x + b*sin(2π/3 * x) + c*x**5 + d, with parameter of a = -11.4987, b = 14.1653, c = 2.9059, d = 6.0980, fits the relationship best and give the least prediction error (4.7008)."
      ],
      "metadata": {
        "id": "P4h-8Sba-G5i"
      }
    }
  ]
}