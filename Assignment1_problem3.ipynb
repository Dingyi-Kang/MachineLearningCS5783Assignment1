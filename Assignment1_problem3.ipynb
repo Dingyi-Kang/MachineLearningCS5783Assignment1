{
  "nbformat": 4,
  "nbformat_minor": 0,
  "metadata": {
    "colab": {
      "provenance": [],
      "collapsed_sections": []
    },
    "kernelspec": {
      "name": "python3",
      "display_name": "Python 3"
    },
    "language_info": {
      "name": "python"
    }
  },
  "cells": [
    {
      "cell_type": "code",
      "execution_count": 1,
      "metadata": {
        "id": "x2gatnMwBu2c",
        "colab": {
          "base_uri": "https://localhost:8080/"
        },
        "outputId": "129e894a-2a70-49af-eb66-c4257c6813f8"
      },
      "outputs": [
        {
          "output_type": "stream",
          "name": "stdout",
          "text": [
            "Mounted at /content/drive\n"
          ]
        }
      ],
      "source": [
        "## Dingyi Kang\n",
        "## A20308046\n",
        "## Assignment1 - problem 3\n",
        "\n",
        "import numpy as np\n",
        "import matplotlib.pyplot as plt\n",
        "\n",
        "from google.colab import drive\n",
        "drive.mount('/content/drive')"
      ]
    },
    {
      "cell_type": "code",
      "source": [
        "xFilePath = '/content/drive/My Drive/x_train.npy'\n",
        "yFilePath = '/content/drive/My Drive/y_train.npy'\n",
        "xTestFilePath = '/content/drive/My Drive/x_test.npy'\n",
        "yTestFilePath = '/content/drive/My Drive/y_test.npy'"
      ],
      "metadata": {
        "id": "z8H8rj4HCD1x"
      },
      "execution_count": 2,
      "outputs": []
    },
    {
      "cell_type": "code",
      "source": [
        "# root function to get predicted values of inputs which are generated locally weighted regression model\n",
        "def locallyWeightedRegression(XTest, XTraining, YTraining, tau):\n",
        "    #initiate an empty array for predicted target values\n",
        "    Y_Preds = []\n",
        "    #gererate and assign esitmated value for each input x\n",
        "    for point in XTest:\n",
        "        y = point * localWeight(point, XTraining, YTraining, tau)\n",
        "        Y_Preds.append(y)\n",
        "    return np.array(Y_Preds)\n",
        "\n",
        "# function to generate theta for a input point\n",
        "def localWeight(point, X, Y, tau):\n",
        "    # get weight matrix\n",
        "    wt = kernel(point, X, tau)\n",
        "    # apply weight matrix in below formula to get the Theta\n",
        "    theta = (X.T * wt * X).I * (X.T * wt * Y.T)\n",
        "    return theta\n",
        "\n",
        "# function to compute weight matrix\n",
        "def kernel(point, X, tau):\n",
        "    # get num of examples in training data\n",
        "    m = np.shape(X)[0]\n",
        "    # inititate a m*m identity matrix\n",
        "    weights = np.mat(np.eye((m)))\n",
        "    # compute and assign weight of this point relative to each point of training data in the diagonal of the matrix\n",
        "    for j in range(m):\n",
        "        diff = point - X[j]\n",
        "        weights[j, j] = np.exp(diff * diff.T / (-2.0 * tau**2))\n",
        "    return weights"
      ],
      "metadata": {
        "id": "Kci2TC9dIvE3"
      },
      "execution_count": 35,
      "outputs": []
    },
    {
      "cell_type": "code",
      "source": [
        "''' load the array data from npy files '''\n",
        "x = np.load(xFilePath)\n",
        "y = np.load(yFilePath)\n",
        "xTs = np.load(xTestFilePath)\n",
        "yTs = np.load(yTestFilePath)\n",
        "\n",
        "''' convert the data from array to matrix for ease of matrix operations later '''\n",
        "xTrain = np.mat(x)\n",
        "yTrain = np.mat(y)\n",
        "xTest = np.mat(xTs)\n",
        "yTest = np.mat(yTs)\n",
        "\n",
        "''' add bias column to XTrain with values of 1 to represent the bias term'''\n",
        "print(xTrain.shape)\n",
        "print(yTrain.shape)\n",
        "m = np.shape(xTrain)[0]\n",
        "bias = np.ones((m, 1), dtype = int)\n",
        "xTrain_ = np.append(xTrain, bias, axis=1)\n",
        "#print(xTrain_)\n",
        "\n",
        "''' add bias column to XTest with values of 1 to represent the bias term'''\n",
        "n = np.shape(xTest)[0]\n",
        "bias2 = np.ones((n, 1), dtype = int)\n",
        "xTest_ = np.append(xTest, bias2, axis=1)\n",
        "#print(xTest_)\n",
        "''' testing with tau value of 0.5 '''\n",
        "pred_y = locallyWeightedRegression(xTest_, xTrain_, yTrain, 0.5).reshape(n)\n",
        "#print(pred_y)\n",
        "plt.scatter(xTs, yTs)\n",
        "plt.scatter(xTs, pred_y, color='orange')"
      ],
      "metadata": {
        "colab": {
          "base_uri": "https://localhost:8080/",
          "height": 319
        },
        "id": "mitGbOH_gdU4",
        "outputId": "331de6e9-9152-4bec-e7f1-a7bfae1d87b9"
      },
      "execution_count": 42,
      "outputs": [
        {
          "output_type": "stream",
          "name": "stdout",
          "text": [
            "(100, 1)\n",
            "(1, 100)\n"
          ]
        },
        {
          "output_type": "execute_result",
          "data": {
            "text/plain": [
              "<matplotlib.collections.PathCollection at 0x7f4864397e50>"
            ]
          },
          "metadata": {},
          "execution_count": 42
        },
        {
          "output_type": "display_data",
          "data": {
            "text/plain": [
              "<Figure size 432x288 with 1 Axes>"
            ],
            "image/png": "[encoded data removed]"
          },
          "metadata": {
            "needs_background": "light"
          }
        }
      ]
    },
    {
      "cell_type": "code",
      "source": [
        "''' testing with tau value of 0.8 '''\n",
        "pred_y = locallyWeightedRegression(xTest_, xTrain_, yTrain, 0.8).reshape(n)\n",
        "#print(pred_y)\n",
        "plt.scatter(xTs, yTs)\n",
        "plt.scatter(xTs, pred_y, color='orange')"
      ],
      "metadata": {
        "colab": {
          "base_uri": "https://localhost:8080/",
          "height": 283
        },
        "id": "3hIaEsJPsRKY",
        "outputId": "4babb686-2423-4c21-bb25-885618a30818"
      },
      "execution_count": 43,
      "outputs": [
        {
          "output_type": "execute_result",
          "data": {
            "text/plain": [
              "<matplotlib.collections.PathCollection at 0x7f48645e2f10>"
            ]
          },
          "metadata": {},
          "execution_count": 43
        },
        {
          "output_type": "display_data",
          "data": {
            "text/plain": [
              "<Figure size 432x288 with 1 Axes>"
            ],
            "image/png": "[encoded data removed]"
          },
          "metadata": {
            "needs_background": "light"
          }
        }
      ]
    },
    {
      "cell_type": "code",
      "source": [
        "''' testing with tau value of 1.0 '''\n",
        "pred_y = locallyWeightedRegression(xTest_, xTrain_, yTrain, 0.9).reshape(n)\n",
        "#print(pred_y)\n",
        "plt.scatter(xTs, yTs)\n",
        "plt.scatter(xTs, pred_y, color='orange')"
      ],
      "metadata": {
        "colab": {
          "base_uri": "https://localhost:8080/",
          "height": 283
        },
        "id": "cYDiuSgzsmHx",
        "outputId": "c1722562-14bc-4293-a631-a82a093d9f03"
      },
      "execution_count": 46,
      "outputs": [
        {
          "output_type": "execute_result",
          "data": {
            "text/plain": [
              "<matplotlib.collections.PathCollection at 0x7f4867873e50>"
            ]
          },
          "metadata": {},
          "execution_count": 46
        },
        {
          "output_type": "display_data",
          "data": {
            "text/plain": [
              "<Figure size 432x288 with 1 Axes>"
            ],
            "image/png": "[encoded data removed]"
          },
          "metadata": {
            "needs_background": "light"
          }
        }
      ]
    },
    {
      "cell_type": "code",
      "source": [
        "''' testing with tau value of 0.3 '''\n",
        "pred_y = locallyWeightedRegression(xTest_, xTrain_, yTrain, 0.3).reshape(n)\n",
        "#print(pred_y)\n",
        "plt.scatter(xTs, yTs)\n",
        "plt.scatter(xTs, pred_y, color='orange')"
      ],
      "metadata": {
        "colab": {
          "base_uri": "https://localhost:8080/",
          "height": 283
        },
        "id": "yGCBj52ystZ9",
        "outputId": "14e1c79f-ff68-4404-b69a-92da81dd3ed5"
      },
      "execution_count": 47,
      "outputs": [
        {
          "output_type": "execute_result",
          "data": {
            "text/plain": [
              "<matplotlib.collections.PathCollection at 0x7f4864a19d90>"
            ]
          },
          "metadata": {},
          "execution_count": 47
        },
        {
          "output_type": "display_data",
          "data": {
            "text/plain": [
              "<Figure size 432x288 with 1 Axes>"
            ],
            "image/png": "[encoded data removed]"
          },
          "metadata": {
            "needs_background": "light"
          }
        }
      ]
    },
    {
      "cell_type": "code",
      "source": [
        "''' testing with tau value of 0.1 '''\n",
        "pred_y = locallyWeightedRegression(xTest_, xTrain_, yTrain, 0.1).reshape(n)\n",
        "#print(pred_y)\n",
        "plt.scatter(xTs, yTs)\n",
        "plt.scatter(xTs, pred_y, color='orange')"
      ],
      "metadata": {
        "colab": {
          "base_uri": "https://localhost:8080/",
          "height": 283
        },
        "id": "GOnaBGAos3OD",
        "outputId": "d021d42e-ef3f-4173-aba4-c85e7b07081e"
      },
      "execution_count": 48,
      "outputs": [
        {
          "output_type": "execute_result",
          "data": {
            "text/plain": [
              "<matplotlib.collections.PathCollection at 0x7f486407f610>"
            ]
          },
          "metadata": {},
          "execution_count": 48
        },
        {
          "output_type": "display_data",
          "data": {
            "text/plain": [
              "<Figure size 432x288 with 1 Axes>"
            ],
            "image/png": "[encoded data removed]"
          },
          "metadata": {
            "needs_background": "light"
          }
        }
      ]
    },
    {
      "cell_type": "markdown",
      "source": [
        "Through comparing above figures with different tau values, we can see the fit of the model gets worse as the tau value increase and gets better as the tau value decreases. And the model gets it best fit at tau value of 0.1 among above examples."
      ],
      "metadata": {
        "id": "QaB3GznMsWap"
      }
    },
    {
      "cell_type": "markdown",
      "source": [
        "Answers 1: we don't need any basis functions when implementing locally weighted regression model since it is non-parametric\n",
        "\n",
        "Answer 2 -- the difference between implementations of parametric linear regression model and that locally weighted regression model: in the implementation of locally weighted regression models, there is no vector of optimal parameters generated. Instead, we create a function which needs to use the training data every time it is called to predict target values. When we want to predict target values of new inputs using this function, we pass both new inputs and the training dataset into the function, and this function will estimate the expected value of the input based on its weights to different points in the trainning data. Hence, the training data will be reused for calculating the value of each input. In contrast, in the implementation of parametric linear regression model, we get a vector of parameters after training model and apply the parameters to new values when we want to predict target values of new values. In the process prediction, no training data information will be reused. What is more, in the implemention of the model of question, we has to think about feature engineering. In contrast, in the implemention of the model of locally weighted regression, we don't need worry about parameters and feature engineering at all. The thing we need to worry about in this case is if taking inverse of the matrix is too computationally expensive."
      ],
      "metadata": {
        "id": "stK1TX3fh8jU"
      }
    }
  ]
}